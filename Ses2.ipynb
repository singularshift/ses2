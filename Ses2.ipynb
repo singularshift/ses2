{
 "cells": [
  {
   "cell_type": "code",
   "execution_count": 4,
   "id": "f4389748-e3a6-46ba-91c2-2e1c03eddf93",
   "metadata": {},
   "outputs": [
    {
     "data": {
      "text/plain": [
       "6"
      ]
     },
     "execution_count": 4,
     "metadata": {},
     "output_type": "execute_result"
    }
   ],
   "source": [
    "def myfunc(x):\n",
    "    result = x*2\n",
    "    return result\n",
    "myfunc(3)"
   ]
  },
  {
   "cell_type": "code",
   "execution_count": 6,
   "id": "7606d2cb-5c84-41d9-bd80-292c57c13043",
   "metadata": {},
   "outputs": [
    {
     "name": "stdout",
     "output_type": "stream",
     "text": [
      "86.0\n"
     ]
    }
   ],
   "source": [
    "# Celsius Calc\n",
    "\n",
    "def C2F(x):\n",
    "    F = x*9/5+32\n",
    "    return F\n",
    "\n",
    "x = 30\n",
    "print(C2F(x))"
   ]
  },
  {
   "cell_type": "code",
   "execution_count": 10,
   "id": "983aef95-07b9-4a7d-a618-75306fc7b426",
   "metadata": {},
   "outputs": [
    {
     "data": {
      "text/plain": [
       "['z', 'p']"
      ]
     },
     "execution_count": 10,
     "metadata": {},
     "output_type": "execute_result"
    }
   ],
   "source": [
    "# Deleting all Vowels\n",
    "\n",
    "def removevow(l):\n",
    "    newlist = [c for c in l if c not in 'May the Force be with you.']\n",
    "    return newlist\n",
    "\n",
    "l1 = ['o', 'z', 'i', 'r', 'p']\n",
    "removevow(l1)"
   ]
  },
  {
   "cell_type": "code",
   "execution_count": 12,
   "id": "f39d9441-6cc6-4cbd-9156-12dea4b4714e",
   "metadata": {},
   "outputs": [],
   "source": [
    "import numpy as np"
   ]
  },
  {
   "cell_type": "code",
   "execution_count": 18,
   "id": "dce1c607-98b3-4b0f-b6c4-67694eb35058",
   "metadata": {},
   "outputs": [
    {
     "data": {
      "text/plain": [
       "array([[ 3, -1,  5],\n",
       "       [ 0,  7,  3]])"
      ]
     },
     "execution_count": 18,
     "metadata": {},
     "output_type": "execute_result"
    }
   ],
   "source": [
    "a = np.array([[3, -1, 5], [0, 7, 3]])\n",
    "a"
   ]
  },
  {
   "cell_type": "code",
   "execution_count": 20,
   "id": "d50cb688-2f9d-438e-af0d-fbffbe5a2845",
   "metadata": {},
   "outputs": [
    {
     "data": {
      "text/plain": [
       "array([[0.5  , 0.   , 0.75 ],\n",
       "       [0.125, 1.   , 0.5  ]])"
      ]
     },
     "execution_count": 20,
     "metadata": {},
     "output_type": "execute_result"
    }
   ],
   "source": [
    "# Normalise array ((a-min)/((a-min)/max))\n",
    "\n",
    "def normalise(a):\n",
    "    centereda = (a-np.min(a))\n",
    "    normala=centereda/np.max(centereda)\n",
    "    return normala\n",
    "\n",
    "normalise(a)"
   ]
  },
  {
   "cell_type": "code",
   "execution_count": 22,
   "id": "2167e140-4cbf-42b6-9935-5cbfd23db34e",
   "metadata": {},
   "outputs": [
    {
     "data": {
      "text/plain": [
       "390625"
      ]
     },
     "execution_count": 22,
     "metadata": {},
     "output_type": "execute_result"
    }
   ],
   "source": [
    "def mysum(x, b):\n",
    "    result = x**b\n",
    "    return result\n",
    "mysum(5,8)"
   ]
  },
  {
   "cell_type": "code",
   "execution_count": 24,
   "id": "7d2717a3-c14a-4508-842b-d27266e27371",
   "metadata": {},
   "outputs": [
    {
     "name": "stdout",
     "output_type": "stream",
     "text": [
      "11111111\n",
      "111111111\n",
      "1111111\n",
      "\n",
      "1111\n"
     ]
    }
   ],
   "source": [
    "def mylistiteration(mylist, c):\n",
    "    for n in mylist:\n",
    "        print(c*n)\n",
    "mylistiteration([8,9,7,0,4], '1')"
   ]
  },
  {
   "cell_type": "code",
   "execution_count": 30,
   "id": "f501e353-b660-4b45-9c9a-d03a5b4507fc",
   "metadata": {},
   "outputs": [
    {
     "name": "stdout",
     "output_type": "stream",
     "text": [
      "8\n"
     ]
    }
   ],
   "source": [
    "def scale(x, s=1):\n",
    "    newx=x*s\n",
    "    return newx\n",
    "print(scale(2, 4))"
   ]
  },
  {
   "cell_type": "code",
   "execution_count": 42,
   "id": "10f477bb-eaf2-40c8-b3a6-a772a6c1d655",
   "metadata": {},
   "outputs": [
    {
     "name": "stdout",
     "output_type": "stream",
     "text": [
      "True\n"
     ]
    }
   ],
   "source": [
    "def exfunc(x):\n",
    "    return True if x > 5 else False\n",
    "print(exfunc(6))"
   ]
  },
  {
   "cell_type": "code",
   "execution_count": 50,
   "id": "375f5c8b-39b8-48cd-968e-984d6fdd21a0",
   "metadata": {},
   "outputs": [
    {
     "name": "stdout",
     "output_type": "stream",
     "text": [
      "3\n"
     ]
    }
   ],
   "source": [
    "def exfunc2(x):\n",
    "    return x.count('a')\n",
    "\n",
    "print(exfunc2('adam and eve'))\n",
    "    "
   ]
  },
  {
   "cell_type": "code",
   "execution_count": 64,
   "id": "1b012967-4e58-47e6-8d82-e64c306e9684",
   "metadata": {},
   "outputs": [
    {
     "name": "stdout",
     "output_type": "stream",
     "text": [
      "[5, 7, 2, 4, 5]\n"
     ]
    }
   ],
   "source": [
    "def exfunc3(a, s=0):\n",
    "    return [num for num in a if num > s] \n",
    "\n",
    "a = [5,7,-1, 2,4,5]\n",
    "print(exfunc3(a))"
   ]
  },
  {
   "cell_type": "code",
   "execution_count": 74,
   "id": "c4dbb173-90f6-44b0-a945-20cbc1ceee66",
   "metadata": {},
   "outputs": [
    {
     "name": "stdout",
     "output_type": "stream",
     "text": [
      "a\n",
      "g\n",
      "k\n",
      "m\n",
      "None\n"
     ]
    }
   ],
   "source": [
    "v = ['a', 'g', 'k', 'm']\n",
    "\n",
    "def myfunc4(v):\n",
    "    for i in v:\n",
    "        print(i)\n",
    "\n",
    "print(myfunc4(v))"
   ]
  },
  {
   "cell_type": "code",
   "execution_count": null,
   "id": "2070232a-0323-46fb-8bea-ef9e91b50b13",
   "metadata": {},
   "outputs": [],
   "source": []
  },
  {
   "cell_type": "code",
   "execution_count": null,
   "id": "17bc47e2-9b41-461f-832a-dc8877ffef75",
   "metadata": {},
   "outputs": [],
   "source": []
  }
 ],
 "metadata": {
  "kernelspec": {
   "display_name": "Python 3 (ipykernel)",
   "language": "python",
   "name": "python3"
  },
  "language_info": {
   "codemirror_mode": {
    "name": "ipython",
    "version": 3
   },
   "file_extension": ".py",
   "mimetype": "text/x-python",
   "name": "python",
   "nbconvert_exporter": "python",
   "pygments_lexer": "ipython3",
   "version": "3.12.4"
  }
 },
 "nbformat": 4,
 "nbformat_minor": 5
}
